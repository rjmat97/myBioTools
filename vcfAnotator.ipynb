{
 "cells": [
  {
   "cell_type": "code",
   "execution_count": 1,
   "metadata": {},
   "outputs": [],
   "source": [
    "import pandas as pd\n",
    "import numpy as np\n",
    "import sys"
   ]
  },
  {
   "cell_type": "code",
   "execution_count": 2,
   "metadata": {},
   "outputs": [],
   "source": [
    "def getStart(loc):\n",
    "    with open(loc) as f:\n",
    "        lines, fr = f.readlines(), 0        \n",
    "        for i in lines:\n",
    "            fr +=1\n",
    "            if i[0]==\"#\": continue\n",
    "            else: break\n",
    "        return fr-1\n",
    "        \n",
    "def procDesc(inDf, srch, filt=True, validator=\"protein_coding\"):\n",
    "    ret = []\n",
    "    desc = list(inDf['desc'])\n",
    "    for i in desc: \n",
    "        proc = i[:-1]\n",
    "        obs = [j.split() for j in proc.split(';')]\n",
    "        obs = np.array(obs,dtype=object).T.tolist()\n",
    "        keylist = dict(zip(obs[0], obs[1]))\n",
    "        \n",
    "        #if set to filter mode the arrat is populated with booleans\n",
    "        if filt:\n",
    "            if 'gene_biotype' in obs[0]: \n",
    "                if keylist['gene_biotype'].find(validator)<0: ret.append(1)\n",
    "                else: ret.append(0)\n",
    "            else: ret.append(0)\n",
    "                \n",
    "        # else the array is populated with the key values for the search term\n",
    "        else: \n",
    "            if srch in keylist:\n",
    "                ret.append(keylist[srch])\n",
    "            else: ret.append('N/A')\n",
    "    return ret"
   ]
  },
  {
   "cell_type": "code",
   "execution_count": 3,
   "metadata": {},
   "outputs": [],
   "source": [
    "fil = './data/Schizosaccharomyces_pombe.ASM294v2.51.gtf'\n",
    "\n",
    "nams = ['chrom', 'source', 'type', 'strt', 'end', '1', 'dir', '3', 'desc']\n",
    "# importing gff as gff\n",
    "gff = pd.read_csv(fil, sep=\"\\t\", skiprows=getStart(fil), names=nams)\n",
    "\n",
    "#filtering out non gene info\n",
    "gff = gff[gff['type']==\"gene\"]\n",
    "gff['protcod'] = procDesc(gff,'protein_coding')\n",
    "gff = gff[gff['protcod']==1].reset_index(drop=True) # filtering out non protein coding genes\n",
    "\n",
    "gff['gene_id'] = procDesc(gff,'gene_id', False)\n",
    "gff['gene_name'] = procDesc(gff,'gene_name', False)\n"
   ]
  },
  {
   "cell_type": "code",
   "execution_count": 5,
   "metadata": {},
   "outputs": [],
   "source": [
    "# process vcf file\n",
    "def getOneLine(fil, pos): \n",
    "    ret = \"\" \n",
    "    with open(fil) as f: \n",
    "        for i in range(pos+1):\n",
    "            if i != pos: ret = f.readline()\n",
    "            else: break\n",
    "    return ret\n",
    "\n",
    "def getVcf(fil):\n",
    "    nams = [i.lower() for i in getOneLine(fil, getStart(fil))[1:-1].split('\\t')]\n",
    "    return pd.read_csv(fil, sep=\"\\t\", skiprows=getStart(fil), names=nams)\n",
    "\n",
    "vcf = getVcf('./data/only_tumor_mode.vcf')\n",
    "vcf = vcf[['chrom', 'pos']]\n",
    "\n",
    "vcfArr = vcf.to_numpy()"
   ]
  },
  {
   "cell_type": "code",
   "execution_count": 24,
   "metadata": {},
   "outputs": [],
   "source": [
    "ids = []\n",
    "nams = []\n",
    "for i in vcfArr: \n",
    "    cr, po = i\n",
    "    res = gff[gff['chrom']==cr]\n",
    "    res = gff[gff['strt']<=po]\n",
    "    res = gff[gff['end']>=po]\n",
    "    ids.append(list(res['gene_id']))\n",
    "    nams.append(list(res['gene_name'])) \n",
    "\n",
    "#remove 'N/A' alues\n",
    "nams=list(map(lambda x: list(filter(lambda a: a!='N/A', x)), nams))\n",
    "\n",
    "vcf['gene_id'] = list(map(lambda x: ';'.join(list(map(lambda a: a.replace('\"', '') , x))), ids))\n",
    "vcf['gene_name'] =list(map(lambda x: ';'.join(list(map(lambda a: a.replace('\"', '') , x))), nams))\n",
    "vcf = vcf.reset_index(drop=True)"
   ]
  },
  {
   "cell_type": "code",
   "execution_count": 25,
   "metadata": {},
   "outputs": [],
   "source": [
    "vcf.to_csv('report.csv')"
   ]
  }
 ],
 "metadata": {
  "interpreter": {
   "hash": "a215bd429923c50fcb8f1135d46d7cf55639dc6d3a28514267ca9033fc184fd6"
  },
  "kernelspec": {
   "display_name": "Python 3",
   "language": "python",
   "name": "python3"
  },
  "language_info": {
   "codemirror_mode": {
    "name": "ipython",
    "version": 3
   },
   "file_extension": ".py",
   "mimetype": "text/x-python",
   "name": "python",
   "nbconvert_exporter": "python",
   "pygments_lexer": "ipython3",
   "version": "3.8.8"
  }
 },
 "nbformat": 4,
 "nbformat_minor": 4
}
